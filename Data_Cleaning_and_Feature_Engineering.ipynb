{
 "cells": [
  {
   "cell_type": "code",
   "execution_count": 1,
   "id": "operational-veteran",
   "metadata": {},
   "outputs": [
    {
     "name": "stdout",
     "output_type": "stream",
     "text": [
      "LOAD DURATION:  0:00:00.597930\n"
     ]
    }
   ],
   "source": [
    "from datetime import datetime\n",
    "start_time = datetime.now()\n",
    "\n",
    "# Libraries to install\n",
    "# %pip install pandas-profiling\n",
    "\n",
    "import pandas as pd\n",
    "import numpy as np\n",
    "import matplotlib.pyplot as plt\n",
    "import seaborn as sns\n",
    "%matplotlib inline\n",
    "\n",
    "print('LOAD DURATION: ', datetime.now() - start_time) # load time about 30 seconds"
   ]
  },
  {
   "cell_type": "code",
   "execution_count": 2,
   "id": "featured-murder",
   "metadata": {},
   "outputs": [
    {
     "name": "stdout",
     "output_type": "stream",
     "text": [
      "CPU times: user 5.77 s, sys: 557 ms, total: 6.32 s\n",
      "Wall time: 6.32 s\n"
     ]
    }
   ],
   "source": [
    "%%time\n",
    "property_data = pd.read_csv('NY property data.csv')"
   ]
  },
  {
   "cell_type": "markdown",
   "id": "exterior-medicare",
   "metadata": {},
   "source": [
    "## Data Cleaning: Fill in Missing Values"
   ]
  },
  {
   "cell_type": "markdown",
   "id": "bizarre-canyon",
   "metadata": {},
   "source": [
    "1. Make a list of the owner names to remove. Remove all records with those owners. Make sure you get all this right.\n",
    "2. Fill in the missing ZIPs\n",
    "3. Fill in missing FULLVAL, AVLAND, AVTOT\n",
    "4. Fill in missing STORIES\n",
    "5. Fill in LTFRONT, LTDEPTH, BLDFRONT, BLDDEPTH"
   ]
  },
  {
   "cell_type": "markdown",
   "id": "ready-envelope",
   "metadata": {},
   "source": [
    "### Fill in Missing Zip"
   ]
  },
  {
   "cell_type": "code",
   "execution_count": 3,
   "id": "behavioral-forty",
   "metadata": {},
   "outputs": [
    {
     "data": {
      "text/plain": [
       "29890"
      ]
     },
     "execution_count": 3,
     "metadata": {},
     "output_type": "execute_result"
    }
   ],
   "source": [
    "missing_zips = np.where(pd.isnull(property_data['ZIP']))[0]\n",
    "len(missing_zips)"
   ]
  },
  {
   "cell_type": "markdown",
   "id": "emotional-delta",
   "metadata": {},
   "source": [
    "If the zip on both the record before and after the record with the missing zip are the same, replace by that zip code"
   ]
  },
  {
   "cell_type": "code",
   "execution_count": 4,
   "id": "pending-national",
   "metadata": {},
   "outputs": [],
   "source": [
    "for i in range(len(missing_zips)):\n",
    "    if(property_data.loc[missing_zips[i]+1, 'ZIP'] == property_data.loc[missing_zips[i]-1,'ZIP']):\n",
    "        property_data.loc[missing_zips[i],'ZIP'] = property_data.loc[missing_zips[i]-1, 'ZIP']"
   ]
  },
  {
   "cell_type": "code",
   "execution_count": 5,
   "id": "bronze-deployment",
   "metadata": {},
   "outputs": [
    {
     "data": {
      "text/plain": [
       "16437"
      ]
     },
     "execution_count": 5,
     "metadata": {},
     "output_type": "execute_result"
    }
   ],
   "source": [
    "missing_zips = np.where(pd.isnull(property_data['ZIP']))[0]\n",
    "len(missing_zips)"
   ]
  },
  {
   "cell_type": "markdown",
   "id": "banned-polls",
   "metadata": {},
   "source": [
    "For the rest of the missing zips, I simply replace missing zips with the zip from record above it"
   ]
  },
  {
   "cell_type": "code",
   "execution_count": 6,
   "id": "written-translator",
   "metadata": {},
   "outputs": [],
   "source": [
    "for i in range(len(missing_zips)):\n",
    "    property_data.loc[missing_zips[i],'ZIP'] = property_data.loc[missing_zips[i]-1,'ZIP']"
   ]
  },
  {
   "cell_type": "code",
   "execution_count": 7,
   "id": "separated-express",
   "metadata": {},
   "outputs": [
    {
     "data": {
      "text/plain": [
       "0"
      ]
     },
     "execution_count": 7,
     "metadata": {},
     "output_type": "execute_result"
    }
   ],
   "source": [
    "missing_zips = np.where(pd.isnull(property_data['ZIP']))[0]\n",
    "len(missing_zips)"
   ]
  },
  {
   "cell_type": "markdown",
   "id": "clean-skiing",
   "metadata": {},
   "source": [
    "### Fill in Missing FULLVAL, AVLAND, AVTOT"
   ]
  },
  {
   "cell_type": "markdown",
   "id": "analyzed-services",
   "metadata": {},
   "source": [
    "Calculate means for AVTOT, AVLAND, FULLVAL by taxclass, avoiding records with zeros"
   ]
  },
  {
   "cell_type": "code",
   "execution_count": 8,
   "id": "addressed-thickness",
   "metadata": {},
   "outputs": [
    {
     "name": "stdout",
     "output_type": "stream",
     "text": [
      "TAXCLASS\n",
      "1     5.698435e+05\n",
      "1A    3.352842e+05\n",
      "1B    5.613639e+05\n",
      "1C    7.615359e+05\n",
      "1D    2.233614e+07\n",
      "2     7.998018e+05\n",
      "2A    8.640037e+05\n",
      "2B    1.252989e+06\n",
      "2C    7.728799e+05\n",
      "3     1.112765e+05\n",
      "4     3.211928e+06\n",
      "Name: FULLVAL, dtype: float64\n"
     ]
    }
   ],
   "source": [
    "property_data['FULLVAL'].replace('NaN',0)\n",
    "temp = property_data[property_data['FULLVAL']!=0]\n",
    "mean_fullval = temp.groupby('TAXCLASS')['FULLVAL'].mean()\n",
    "print(mean_fullval)"
   ]
  },
  {
   "cell_type": "code",
   "execution_count": 9,
   "id": "bronze-deadline",
   "metadata": {},
   "outputs": [
    {
     "name": "stdout",
     "output_type": "stream",
     "text": [
      "TAXCLASS\n",
      "1      14896.433976\n",
      "1A      2247.369138\n",
      "1B     14781.268478\n",
      "1C      8225.658898\n",
      "1D    709303.793103\n",
      "2      90830.095031\n",
      "2A     31363.390619\n",
      "2B     54446.810503\n",
      "2C     25639.066531\n",
      "3      43368.352941\n",
      "4     600949.433397\n",
      "Name: AVLAND, dtype: float64\n"
     ]
    }
   ],
   "source": [
    "property_data['AVLAND'].replace('NaN',0)\n",
    "temp = property_data[property_data['AVLAND']!=0]\n",
    "mean_avland = temp.groupby('TAXCLASS')['AVLAND'].mean()\n",
    "print(mean_avland)"
   ]
  },
  {
   "cell_type": "code",
   "execution_count": 10,
   "id": "alpine-correspondence",
   "metadata": {},
   "outputs": [
    {
     "name": "stdout",
     "output_type": "stream",
     "text": [
      "TAXCLASS\n",
      "1     2.501609e+04\n",
      "1A    1.436972e+04\n",
      "1B    1.478410e+04\n",
      "1C    2.898447e+04\n",
      "1D    1.166866e+06\n",
      "2     3.599121e+05\n",
      "2A    7.961158e+04\n",
      "2B    1.785982e+05\n",
      "2C    1.170444e+05\n",
      "3     5.007444e+04\n",
      "4     1.488705e+06\n",
      "Name: AVTOT, dtype: float64\n"
     ]
    }
   ],
   "source": [
    "property_data['AVTOT'].replace('NaN',0)\n",
    "temp = property_data[property_data['AVTOT']!=0]\n",
    "mean_avtot = temp.groupby('TAXCLASS')['AVTOT'].mean()\n",
    "print(mean_avtot)"
   ]
  },
  {
   "cell_type": "markdown",
   "id": "oriental-palestine",
   "metadata": {},
   "source": [
    "Substitute decent values for AVTOT, AVLAND, FULLVAL from averages by taxclass"
   ]
  },
  {
   "cell_type": "code",
   "execution_count": 11,
   "id": "naked-guard",
   "metadata": {},
   "outputs": [
    {
     "name": "stdout",
     "output_type": "stream",
     "text": [
      "CPU times: user 5.6 s, sys: 60.9 ms, total: 5.66 s\n",
      "Wall time: 5.57 s\n"
     ]
    }
   ],
   "source": [
    "%%time\n",
    "for index in mean_fullval.index:\n",
    "    property_data.loc[(property_data['FULLVAL']==0)&(property_data['TAXCLASS']==index),'FULLVAL']=mean_fullval[index]\n",
    "    property_data.loc[(property_data['AVLAND']==0)&(property_data['TAXCLASS']==index),'AVLAND']=mean_fullval[index]\n",
    "    property_data.loc[(property_data['AVTOT']==0)&(property_data['TAXCLASS']==index),'AVTOT']=mean_fullval[index]"
   ]
  },
  {
   "cell_type": "markdown",
   "id": "developing-silicon",
   "metadata": {},
   "source": [
    "### Fill in Missing STORIES"
   ]
  },
  {
   "cell_type": "code",
   "execution_count": 12,
   "id": "numerous-november",
   "metadata": {},
   "outputs": [
    {
     "data": {
      "text/plain": [
       "56264"
      ]
     },
     "execution_count": 12,
     "metadata": {},
     "output_type": "execute_result"
    }
   ],
   "source": [
    "temp = property_data[property_data['STORIES'].isnull()]\n",
    "len(temp)"
   ]
  },
  {
   "cell_type": "code",
   "execution_count": 13,
   "id": "finite-character",
   "metadata": {},
   "outputs": [
    {
     "data": {
      "text/plain": [
       "0"
      ]
     },
     "execution_count": 13,
     "metadata": {},
     "output_type": "execute_result"
    }
   ],
   "source": [
    "len(property_data[property_data['STORIES']==0])"
   ]
  },
  {
   "cell_type": "markdown",
   "id": "registered-conclusion",
   "metadata": {},
   "source": [
    "In addition, there should not be a value zero for this field, so we treat zeros as missing values as well.\n",
    "I'm grouping by TAXCLASS, since that should be a pretty good description of the nature of the buildings"
   ]
  },
  {
   "cell_type": "code",
   "execution_count": 14,
   "id": "mysterious-value",
   "metadata": {},
   "outputs": [
    {
     "data": {
      "text/plain": [
       "1B    24736\n",
       "4     22354\n",
       "3      4635\n",
       "2      3435\n",
       "1       897\n",
       "2C      138\n",
       "2B       34\n",
       "2A       30\n",
       "1A        5\n",
       "Name: TAXCLASS, dtype: int64"
      ]
     },
     "execution_count": 14,
     "metadata": {},
     "output_type": "execute_result"
    }
   ],
   "source": [
    "temp['TAXCLASS'].value_counts()"
   ]
  },
  {
   "cell_type": "code",
   "execution_count": 15,
   "id": "trained-balloon",
   "metadata": {},
   "outputs": [
    {
     "name": "stdout",
     "output_type": "stream",
     "text": [
      "TAXCLASS\n",
      "1      2.111641\n",
      "1A     1.656837\n",
      "1B     4.000000\n",
      "1C     3.052748\n",
      "1D     1.068966\n",
      "2     16.095110\n",
      "2A     2.844574\n",
      "2B     4.004494\n",
      "2C     4.745097\n",
      "3      1.333333\n",
      "4      5.446968\n",
      "Name: STORIES, dtype: float64\n"
     ]
    }
   ],
   "source": [
    "mean_stories = property_data.groupby('TAXCLASS')['STORIES'].mean()\n",
    "print(mean_stories)"
   ]
  },
  {
   "cell_type": "code",
   "execution_count": 16,
   "id": "generic-calgary",
   "metadata": {},
   "outputs": [],
   "source": [
    "property_data['STORIES']=property_data['STORIES'].fillna(value=0)\n",
    "for index in mean_stories.index:\n",
    "    property_data.loc[(property_data['STORIES']==0)&(property_data['TAXCLASS']==index),'STORIES']=mean_stories[index]"
   ]
  },
  {
   "cell_type": "code",
   "execution_count": 17,
   "id": "average-somalia",
   "metadata": {},
   "outputs": [
    {
     "data": {
      "text/html": [
       "<div>\n",
       "<style scoped>\n",
       "    .dataframe tbody tr th:only-of-type {\n",
       "        vertical-align: middle;\n",
       "    }\n",
       "\n",
       "    .dataframe tbody tr th {\n",
       "        vertical-align: top;\n",
       "    }\n",
       "\n",
       "    .dataframe thead th {\n",
       "        text-align: right;\n",
       "    }\n",
       "</style>\n",
       "<table border=\"1\" class=\"dataframe\">\n",
       "  <thead>\n",
       "    <tr style=\"text-align: right;\">\n",
       "      <th></th>\n",
       "      <th>0</th>\n",
       "      <th>1</th>\n",
       "      <th>2</th>\n",
       "      <th>3</th>\n",
       "      <th>4</th>\n",
       "    </tr>\n",
       "  </thead>\n",
       "  <tbody>\n",
       "    <tr>\n",
       "      <th>RECORD</th>\n",
       "      <td>1</td>\n",
       "      <td>2</td>\n",
       "      <td>3</td>\n",
       "      <td>4</td>\n",
       "      <td>5</td>\n",
       "    </tr>\n",
       "    <tr>\n",
       "      <th>BBLE</th>\n",
       "      <td>1000010101</td>\n",
       "      <td>1000010201</td>\n",
       "      <td>1000020001</td>\n",
       "      <td>1000020023</td>\n",
       "      <td>1000030001</td>\n",
       "    </tr>\n",
       "    <tr>\n",
       "      <th>B</th>\n",
       "      <td>1</td>\n",
       "      <td>1</td>\n",
       "      <td>1</td>\n",
       "      <td>1</td>\n",
       "      <td>1</td>\n",
       "    </tr>\n",
       "    <tr>\n",
       "      <th>BLOCK</th>\n",
       "      <td>1</td>\n",
       "      <td>1</td>\n",
       "      <td>2</td>\n",
       "      <td>2</td>\n",
       "      <td>3</td>\n",
       "    </tr>\n",
       "    <tr>\n",
       "      <th>LOT</th>\n",
       "      <td>101</td>\n",
       "      <td>201</td>\n",
       "      <td>1</td>\n",
       "      <td>23</td>\n",
       "      <td>1</td>\n",
       "    </tr>\n",
       "    <tr>\n",
       "      <th>EASEMENT</th>\n",
       "      <td>NaN</td>\n",
       "      <td>NaN</td>\n",
       "      <td>NaN</td>\n",
       "      <td>NaN</td>\n",
       "      <td>NaN</td>\n",
       "    </tr>\n",
       "    <tr>\n",
       "      <th>OWNER</th>\n",
       "      <td>U S GOVT LAND &amp; BLDGS</td>\n",
       "      <td>U S GOVT LAND &amp; BLDGS</td>\n",
       "      <td>DEPT OF GENERAL SERVI</td>\n",
       "      <td>DEPARTMENT OF BUSINES</td>\n",
       "      <td>PARKS AND RECREATION</td>\n",
       "    </tr>\n",
       "    <tr>\n",
       "      <th>BLDGCL</th>\n",
       "      <td>P7</td>\n",
       "      <td>Z9</td>\n",
       "      <td>Y7</td>\n",
       "      <td>T2</td>\n",
       "      <td>Q1</td>\n",
       "    </tr>\n",
       "    <tr>\n",
       "      <th>TAXCLASS</th>\n",
       "      <td>4</td>\n",
       "      <td>4</td>\n",
       "      <td>4</td>\n",
       "      <td>4</td>\n",
       "      <td>4</td>\n",
       "    </tr>\n",
       "    <tr>\n",
       "      <th>LTFRONT</th>\n",
       "      <td>500</td>\n",
       "      <td>27</td>\n",
       "      <td>709</td>\n",
       "      <td>793</td>\n",
       "      <td>323</td>\n",
       "    </tr>\n",
       "    <tr>\n",
       "      <th>LTDEPTH</th>\n",
       "      <td>1046</td>\n",
       "      <td>0</td>\n",
       "      <td>564</td>\n",
       "      <td>551</td>\n",
       "      <td>1260</td>\n",
       "    </tr>\n",
       "    <tr>\n",
       "      <th>EXT</th>\n",
       "      <td>NaN</td>\n",
       "      <td>NaN</td>\n",
       "      <td>E</td>\n",
       "      <td>NaN</td>\n",
       "      <td>NaN</td>\n",
       "    </tr>\n",
       "    <tr>\n",
       "      <th>STORIES</th>\n",
       "      <td>5.446968</td>\n",
       "      <td>5.446968</td>\n",
       "      <td>3.0</td>\n",
       "      <td>2.0</td>\n",
       "      <td>1.0</td>\n",
       "    </tr>\n",
       "    <tr>\n",
       "      <th>FULLVAL</th>\n",
       "      <td>21400000.0</td>\n",
       "      <td>193800000.0</td>\n",
       "      <td>104686000.0</td>\n",
       "      <td>39200000.0</td>\n",
       "      <td>272300000.0</td>\n",
       "    </tr>\n",
       "    <tr>\n",
       "      <th>AVLAND</th>\n",
       "      <td>4225500.0</td>\n",
       "      <td>14310000.0</td>\n",
       "      <td>39008700.0</td>\n",
       "      <td>15255000.0</td>\n",
       "      <td>121050000.0</td>\n",
       "    </tr>\n",
       "    <tr>\n",
       "      <th>AVTOT</th>\n",
       "      <td>9630000.0</td>\n",
       "      <td>87210000.0</td>\n",
       "      <td>47108700.0</td>\n",
       "      <td>17640000.0</td>\n",
       "      <td>122535000.0</td>\n",
       "    </tr>\n",
       "    <tr>\n",
       "      <th>EXLAND</th>\n",
       "      <td>4225500.0</td>\n",
       "      <td>14310000.0</td>\n",
       "      <td>39008700.0</td>\n",
       "      <td>15255000.0</td>\n",
       "      <td>121050000.0</td>\n",
       "    </tr>\n",
       "    <tr>\n",
       "      <th>EXTOT</th>\n",
       "      <td>9630000.0</td>\n",
       "      <td>87210000.0</td>\n",
       "      <td>47108700.0</td>\n",
       "      <td>17640000.0</td>\n",
       "      <td>122535000.0</td>\n",
       "    </tr>\n",
       "    <tr>\n",
       "      <th>EXCD1</th>\n",
       "      <td>4600.0</td>\n",
       "      <td>4600.0</td>\n",
       "      <td>2191.0</td>\n",
       "      <td>2191.0</td>\n",
       "      <td>2231.0</td>\n",
       "    </tr>\n",
       "    <tr>\n",
       "      <th>STADDR</th>\n",
       "      <td>1 LIBERTY ISLAND</td>\n",
       "      <td>1 ELLIS ISLAND</td>\n",
       "      <td>MARGINAL STREET</td>\n",
       "      <td>PIER 6</td>\n",
       "      <td>BATTERY PARK</td>\n",
       "    </tr>\n",
       "    <tr>\n",
       "      <th>ZIP</th>\n",
       "      <td>10004.0</td>\n",
       "      <td>10004.0</td>\n",
       "      <td>10004.0</td>\n",
       "      <td>10004.0</td>\n",
       "      <td>10004.0</td>\n",
       "    </tr>\n",
       "    <tr>\n",
       "      <th>EXMPTCL</th>\n",
       "      <td>X3</td>\n",
       "      <td>X3</td>\n",
       "      <td>X1</td>\n",
       "      <td>X1</td>\n",
       "      <td>X1</td>\n",
       "    </tr>\n",
       "    <tr>\n",
       "      <th>BLDFRONT</th>\n",
       "      <td>0</td>\n",
       "      <td>0</td>\n",
       "      <td>709</td>\n",
       "      <td>85</td>\n",
       "      <td>89</td>\n",
       "    </tr>\n",
       "    <tr>\n",
       "      <th>BLDDEPTH</th>\n",
       "      <td>0</td>\n",
       "      <td>0</td>\n",
       "      <td>564</td>\n",
       "      <td>551</td>\n",
       "      <td>57</td>\n",
       "    </tr>\n",
       "    <tr>\n",
       "      <th>AVLAND2</th>\n",
       "      <td>3775500.0</td>\n",
       "      <td>11111400.0</td>\n",
       "      <td>32321790.0</td>\n",
       "      <td>13644000.0</td>\n",
       "      <td>106348680.0</td>\n",
       "    </tr>\n",
       "    <tr>\n",
       "      <th>AVTOT2</th>\n",
       "      <td>8613000.0</td>\n",
       "      <td>80690400.0</td>\n",
       "      <td>40179510.0</td>\n",
       "      <td>15750000.0</td>\n",
       "      <td>107758350.0</td>\n",
       "    </tr>\n",
       "    <tr>\n",
       "      <th>EXLAND2</th>\n",
       "      <td>3775500.0</td>\n",
       "      <td>11111400.0</td>\n",
       "      <td>32321790.0</td>\n",
       "      <td>13644000.0</td>\n",
       "      <td>106348680.0</td>\n",
       "    </tr>\n",
       "    <tr>\n",
       "      <th>EXTOT2</th>\n",
       "      <td>8613000.0</td>\n",
       "      <td>80690400.0</td>\n",
       "      <td>40179510.0</td>\n",
       "      <td>15750000.0</td>\n",
       "      <td>107758350.0</td>\n",
       "    </tr>\n",
       "    <tr>\n",
       "      <th>EXCD2</th>\n",
       "      <td>NaN</td>\n",
       "      <td>NaN</td>\n",
       "      <td>NaN</td>\n",
       "      <td>NaN</td>\n",
       "      <td>NaN</td>\n",
       "    </tr>\n",
       "    <tr>\n",
       "      <th>PERIOD</th>\n",
       "      <td>FINAL</td>\n",
       "      <td>FINAL</td>\n",
       "      <td>FINAL</td>\n",
       "      <td>FINAL</td>\n",
       "      <td>FINAL</td>\n",
       "    </tr>\n",
       "    <tr>\n",
       "      <th>YEAR</th>\n",
       "      <td>2010/11</td>\n",
       "      <td>2010/11</td>\n",
       "      <td>2010/11</td>\n",
       "      <td>2010/11</td>\n",
       "      <td>2010/11</td>\n",
       "    </tr>\n",
       "    <tr>\n",
       "      <th>VALTYPE</th>\n",
       "      <td>AC-TR</td>\n",
       "      <td>AC-TR</td>\n",
       "      <td>AC-TR</td>\n",
       "      <td>AC-TR</td>\n",
       "      <td>AC-TR</td>\n",
       "    </tr>\n",
       "  </tbody>\n",
       "</table>\n",
       "</div>"
      ],
      "text/plain": [
       "                              0                      1                      2  \\\n",
       "RECORD                        1                      2                      3   \n",
       "BBLE                 1000010101             1000010201             1000020001   \n",
       "B                             1                      1                      1   \n",
       "BLOCK                         1                      1                      2   \n",
       "LOT                         101                    201                      1   \n",
       "EASEMENT                    NaN                    NaN                    NaN   \n",
       "OWNER     U S GOVT LAND & BLDGS  U S GOVT LAND & BLDGS  DEPT OF GENERAL SERVI   \n",
       "BLDGCL                       P7                     Z9                     Y7   \n",
       "TAXCLASS                      4                      4                      4   \n",
       "LTFRONT                     500                     27                    709   \n",
       "LTDEPTH                    1046                      0                    564   \n",
       "EXT                         NaN                    NaN                      E   \n",
       "STORIES                5.446968               5.446968                    3.0   \n",
       "FULLVAL              21400000.0            193800000.0            104686000.0   \n",
       "AVLAND                4225500.0             14310000.0             39008700.0   \n",
       "AVTOT                 9630000.0             87210000.0             47108700.0   \n",
       "EXLAND                4225500.0             14310000.0             39008700.0   \n",
       "EXTOT                 9630000.0             87210000.0             47108700.0   \n",
       "EXCD1                    4600.0                 4600.0                 2191.0   \n",
       "STADDR         1 LIBERTY ISLAND         1 ELLIS ISLAND        MARGINAL STREET   \n",
       "ZIP                     10004.0                10004.0                10004.0   \n",
       "EXMPTCL                      X3                     X3                     X1   \n",
       "BLDFRONT                      0                      0                    709   \n",
       "BLDDEPTH                      0                      0                    564   \n",
       "AVLAND2               3775500.0             11111400.0             32321790.0   \n",
       "AVTOT2                8613000.0             80690400.0             40179510.0   \n",
       "EXLAND2               3775500.0             11111400.0             32321790.0   \n",
       "EXTOT2                8613000.0             80690400.0             40179510.0   \n",
       "EXCD2                       NaN                    NaN                    NaN   \n",
       "PERIOD                    FINAL                  FINAL                  FINAL   \n",
       "YEAR                    2010/11                2010/11                2010/11   \n",
       "VALTYPE                   AC-TR                  AC-TR                  AC-TR   \n",
       "\n",
       "                              3                     4  \n",
       "RECORD                        4                     5  \n",
       "BBLE                 1000020023            1000030001  \n",
       "B                             1                     1  \n",
       "BLOCK                         2                     3  \n",
       "LOT                          23                     1  \n",
       "EASEMENT                    NaN                   NaN  \n",
       "OWNER     DEPARTMENT OF BUSINES  PARKS AND RECREATION  \n",
       "BLDGCL                       T2                    Q1  \n",
       "TAXCLASS                      4                     4  \n",
       "LTFRONT                     793                   323  \n",
       "LTDEPTH                     551                  1260  \n",
       "EXT                         NaN                   NaN  \n",
       "STORIES                     2.0                   1.0  \n",
       "FULLVAL              39200000.0           272300000.0  \n",
       "AVLAND               15255000.0           121050000.0  \n",
       "AVTOT                17640000.0           122535000.0  \n",
       "EXLAND               15255000.0           121050000.0  \n",
       "EXTOT                17640000.0           122535000.0  \n",
       "EXCD1                    2191.0                2231.0  \n",
       "STADDR                   PIER 6          BATTERY PARK  \n",
       "ZIP                     10004.0               10004.0  \n",
       "EXMPTCL                      X1                    X1  \n",
       "BLDFRONT                     85                    89  \n",
       "BLDDEPTH                    551                    57  \n",
       "AVLAND2              13644000.0           106348680.0  \n",
       "AVTOT2               15750000.0           107758350.0  \n",
       "EXLAND2              13644000.0           106348680.0  \n",
       "EXTOT2               15750000.0           107758350.0  \n",
       "EXCD2                       NaN                   NaN  \n",
       "PERIOD                    FINAL                 FINAL  \n",
       "YEAR                    2010/11               2010/11  \n",
       "VALTYPE                   AC-TR                 AC-TR  "
      ]
     },
     "execution_count": 17,
     "metadata": {},
     "output_type": "execute_result"
    }
   ],
   "source": [
    "property_data.head().transpose()"
   ]
  },
  {
   "cell_type": "markdown",
   "id": "sensitive-restaurant",
   "metadata": {},
   "source": [
    "### Fill in Missing LOT and Building Sizes"
   ]
  },
  {
   "cell_type": "code",
   "execution_count": 18,
   "id": "designed-coffee",
   "metadata": {},
   "outputs": [],
   "source": [
    "# since these 4 values do not have NAs, we need to replace 0s\n",
    "# calculate groupwise average. First replace the 0's and 1's by NAs so they are not counted in calculating mean\n",
    "#also treat the sizes of 1s as missing\n",
    "property_data.loc[property_data['LTFRONT']==0,'LTFRONT']=np.nan\n",
    "property_data.loc[property_data['LTDEPTH']==0,'LTDEPTH']=np.nan\n",
    "property_data.loc[property_data['BLDFRONT']==0,'BLDFRONT']=np.nan\n",
    "property_data.loc[property_data['BLDDEPTH']==0,'BLDDEPTH']=np.nan\n",
    "property_data.loc[property_data['LTFRONT']==1,'LTFRONT']=np.nan\n",
    "property_data.loc[property_data['LTDEPTH']==1,'LTDEPTH']=np.nan\n",
    "property_data.loc[property_data['BLDFRONT']==1,'BLDFRONT']=np.nan\n",
    "property_data.loc[property_data['BLDDEPTH']==1,'BLDDEPTH']=np.nan"
   ]
  },
  {
   "cell_type": "code",
   "execution_count": 19,
   "id": "cheap-trance",
   "metadata": {},
   "outputs": [],
   "source": [
    "# calculate the mean (mean function ignores NAs but not 0s hence we converted 0 to NA)\n",
    "mean_LTFRONT = property_data.groupby(property_data['TAXCLASS'])['LTFRONT'].mean()\n",
    "mean_LTDEPTH = property_data.groupby(property_data['TAXCLASS'])['LTDEPTH'].mean()\n",
    "mean_BLDFRONT = property_data.groupby(property_data['TAXCLASS'])['BLDFRONT'].mean()\n",
    "mean_BLDDEPTH = property_data.groupby(property_data['TAXCLASS'])['BLDDEPTH'].mean()"
   ]
  },
  {
   "cell_type": "code",
   "execution_count": 20,
   "id": "grand-commitment",
   "metadata": {},
   "outputs": [],
   "source": [
    "# impute values\n",
    "for index in mean_LTFRONT.index:\n",
    "    property_data.loc[(property_data['LTFRONT'].isnull())&(property_data['TAXCLASS']==index),'LTFRONT']=mean_LTFRONT[index]\n",
    "    property_data.loc[(property_data['LTDEPTH'].isnull())&(property_data['TAXCLASS']==index),'LTDEPTH']=mean_LTFRONT[index]\n",
    "    property_data.loc[(property_data['BLDFRONT'].isnull())&(property_data['TAXCLASS']==index),'BLDFRONT']=mean_LTFRONT[index]\n",
    "    property_data.loc[(property_data['BLDDEPTH'].isnull())&(property_data['TAXCLASS']==index),'BLDDEPTH']=mean_LTFRONT[index]"
   ]
  },
  {
   "cell_type": "markdown",
   "id": "exciting-windows",
   "metadata": {},
   "source": [
    "## Feature Engineering: Add New Variables\n",
    "S1 = LTFRONT * LTDEPTH\n",
    "S2 = BLDFRONT * BLDDEPTH\n",
    "S3 = S2 * STORIES"
   ]
  },
  {
   "cell_type": "code",
   "execution_count": 21,
   "id": "polar-romantic",
   "metadata": {},
   "outputs": [],
   "source": [
    "# convert ZIP from float to integers\n",
    "# convert ZIP from float to integers\n",
    "property_data['ZIP']  = property_data['ZIP'].astype(str)\n",
    "property_data['zip3'] = property_data['ZIP'].str[:3]"
   ]
  },
  {
   "cell_type": "code",
   "execution_count": 22,
   "id": "addressed-acquisition",
   "metadata": {},
   "outputs": [],
   "source": [
    "property_data['ltsize'] = property_data['LTFRONT'] * property_data['LTDEPTH']\n",
    "property_data['bldsize'] = property_data['BLDFRONT'] * property_data['BLDDEPTH']\n",
    "property_data['bldvol'] = property_data['bldsize'] * property_data['STORIES']"
   ]
  },
  {
   "cell_type": "code",
   "execution_count": 23,
   "id": "diverse-baltimore",
   "metadata": {},
   "outputs": [],
   "source": [
    "# make variables that are typical measures of how normal a property is\n",
    "property_data['r1'] = property_data['FULLVAL'] / property_data['ltsize']\n",
    "property_data['r2'] = property_data['FULLVAL'] / property_data['bldsize']\n",
    "property_data['r3'] = property_data['FULLVAL'] / property_data['bldvol']\n",
    "property_data['r4'] = property_data['AVLAND'] / property_data['ltsize']\n",
    "property_data['r5'] = property_data['AVLAND'] / property_data['bldsize']\n",
    "property_data['r6'] = property_data['AVLAND'] / property_data['bldvol']\n",
    "property_data['r7'] = property_data['AVTOT'] / property_data['ltsize']\n",
    "property_data['r8'] = property_data['AVTOT'] / property_data['bldsize']\n",
    "property_data['r9'] = property_data['AVTOT'] / property_data['bldvol']"
   ]
  },
  {
   "cell_type": "code",
   "execution_count": 24,
   "id": "indie-alarm",
   "metadata": {},
   "outputs": [],
   "source": [
    "ninevars = ['r1','r2','r3','r4','r5','r6','r7','r8','r9']\n",
    "zip5_mean = property_data.groupby('ZIP')[ninevars].mean()\n",
    "zip3_mean = property_data.groupby('zip3')[ninevars].mean()\n",
    "taxclass_mean = property_data.groupby('TAXCLASS')[ninevars].mean()\n",
    "borough_mean = property_data.groupby('B')[ninevars].mean()"
   ]
  },
  {
   "cell_type": "code",
   "execution_count": 25,
   "id": "wrong-lightning",
   "metadata": {},
   "outputs": [],
   "source": [
    "property_data = property_data.join(zip5_mean, on='ZIP', rsuffix='_zip5')\n",
    "property_data = property_data.join(zip3_mean, on='zip3', rsuffix='_zip3')\n",
    "property_data = property_data.join(taxclass_mean, on='TAXCLASS', rsuffix='_taxclass')\n",
    "property_data = property_data.join(borough_mean, on='B', rsuffix='_boro')"
   ]
  },
  {
   "cell_type": "code",
   "execution_count": 26,
   "id": "conscious-browser",
   "metadata": {},
   "outputs": [],
   "source": [
    "rsuffix = ['_zip5','_zip3','_taxclass','_boro']\n",
    "for var in ninevars:\n",
    "    for r in rsuffix:\n",
    "        property_data[str(var)+r] = property_data[var] / property_data[str(var)+r]"
   ]
  },
  {
   "cell_type": "code",
   "execution_count": 27,
   "id": "chief-cincinnati",
   "metadata": {},
   "outputs": [
    {
     "data": {
      "text/plain": [
       "Index(['RECORD', 'BBLE', 'B', 'BLOCK', 'LOT', 'EASEMENT', 'OWNER', 'BLDGCL',\n",
       "       'TAXCLASS', 'LTFRONT', 'LTDEPTH', 'EXT', 'STORIES', 'FULLVAL', 'AVLAND',\n",
       "       'AVTOT', 'EXLAND', 'EXTOT', 'EXCD1', 'STADDR', 'ZIP', 'EXMPTCL',\n",
       "       'BLDFRONT', 'BLDDEPTH', 'AVLAND2', 'AVTOT2', 'EXLAND2', 'EXTOT2',\n",
       "       'EXCD2', 'PERIOD', 'YEAR', 'VALTYPE', 'zip3', 'ltsize', 'bldsize',\n",
       "       'bldvol', 'r1', 'r2', 'r3', 'r4', 'r5', 'r6', 'r7', 'r8', 'r9',\n",
       "       'r1_zip5', 'r2_zip5', 'r3_zip5', 'r4_zip5', 'r5_zip5', 'r6_zip5',\n",
       "       'r7_zip5', 'r8_zip5', 'r9_zip5', 'r1_zip3', 'r2_zip3', 'r3_zip3',\n",
       "       'r4_zip3', 'r5_zip3', 'r6_zip3', 'r7_zip3', 'r8_zip3', 'r9_zip3',\n",
       "       'r1_taxclass', 'r2_taxclass', 'r3_taxclass', 'r4_taxclass',\n",
       "       'r5_taxclass', 'r6_taxclass', 'r7_taxclass', 'r8_taxclass',\n",
       "       'r9_taxclass', 'r1_boro', 'r2_boro', 'r3_boro', 'r4_boro', 'r5_boro',\n",
       "       'r6_boro', 'r7_boro', 'r8_boro', 'r9_boro'],\n",
       "      dtype='object')"
      ]
     },
     "execution_count": 27,
     "metadata": {},
     "output_type": "execute_result"
    }
   ],
   "source": [
    "property_data.columns"
   ]
  },
  {
   "cell_type": "code",
   "execution_count": null,
   "id": "acceptable-devices",
   "metadata": {},
   "outputs": [],
   "source": [
    "property_data[cols].describe"
   ]
  },
  {
   "cell_type": "code",
   "execution_count": 36,
   "id": "quantitative-wednesday",
   "metadata": {},
   "outputs": [],
   "source": [
    "cols = ['r1', 'r2', 'r3', 'r4', 'r5', 'r6', 'r7', 'r8', 'r9',\n",
    "       'r1_zip5', 'r2_zip5', 'r3_zip5', 'r4_zip5', 'r5_zip5', 'r6_zip5',\n",
    "       'r7_zip5', 'r8_zip5', 'r9_zip5', 'r1_zip3', 'r2_zip3', 'r3_zip3',\n",
    "       'r4_zip3', 'r5_zip3', 'r6_zip3', 'r7_zip3', 'r8_zip3', 'r9_zip3',\n",
    "       'r1_taxclass', 'r2_taxclass', 'r3_taxclass', 'r4_taxclass',\n",
    "       'r5_taxclass', 'r6_taxclass', 'r7_taxclass', 'r8_taxclass',\n",
    "       'r9_taxclass', 'r1_boro', 'r2_boro', 'r3_boro', 'r4_boro', 'r5_boro',\n",
    "       'r6_boro', 'r7_boro', 'r8_boro', 'r9_boro']\n",
    "\n",
    "{}\n",
    "property_data[cols].describe().round(2).transpose().to_csv('stats_on_vars.csv')"
   ]
  }
 ],
 "metadata": {
  "kernelspec": {
   "display_name": "Python 3",
   "language": "python",
   "name": "python3"
  },
  "language_info": {
   "codemirror_mode": {
    "name": "ipython",
    "version": 3
   },
   "file_extension": ".py",
   "mimetype": "text/x-python",
   "name": "python",
   "nbconvert_exporter": "python",
   "pygments_lexer": "ipython3",
   "version": "3.8.5"
  }
 },
 "nbformat": 4,
 "nbformat_minor": 5
}
