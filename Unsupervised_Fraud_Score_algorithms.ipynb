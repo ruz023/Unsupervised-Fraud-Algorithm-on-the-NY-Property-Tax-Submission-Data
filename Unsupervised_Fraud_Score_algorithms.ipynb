{
 "cells": [
  {
   "cell_type": "code",
   "execution_count": 1,
   "id": "cd038525",
   "metadata": {},
   "outputs": [],
   "source": [
    "import matplotlib.pyplot as plt\n",
    "import numpy as np\n",
    "import pandas as pd\n",
    "import seaborn as sns\n",
    "from sklearn.decomposition import PCA"
   ]
  },
  {
   "cell_type": "code",
   "execution_count": 2,
   "id": "b0f3da0c",
   "metadata": {},
   "outputs": [
    {
     "name": "stdout",
     "output_type": "stream",
     "text": [
      "CPU times: user 1.67 s, sys: 1.48 s, total: 3.15 s\n",
      "Wall time: 3.15 s\n"
     ]
    },
    {
     "data": {
      "text/html": [
       "<div>\n",
       "<style scoped>\n",
       "    .dataframe tbody tr th:only-of-type {\n",
       "        vertical-align: middle;\n",
       "    }\n",
       "\n",
       "    .dataframe tbody tr th {\n",
       "        vertical-align: top;\n",
       "    }\n",
       "\n",
       "    .dataframe thead th {\n",
       "        text-align: right;\n",
       "    }\n",
       "</style>\n",
       "<table border=\"1\" class=\"dataframe\">\n",
       "  <thead>\n",
       "    <tr style=\"text-align: right;\">\n",
       "      <th></th>\n",
       "      <th>r1</th>\n",
       "      <th>r2</th>\n",
       "      <th>r3</th>\n",
       "      <th>r4</th>\n",
       "      <th>r5</th>\n",
       "      <th>r6</th>\n",
       "      <th>r7</th>\n",
       "      <th>r8</th>\n",
       "      <th>r9</th>\n",
       "      <th>r1_zip5</th>\n",
       "      <th>...</th>\n",
       "      <th>r9_taxclass</th>\n",
       "      <th>r1_boro</th>\n",
       "      <th>r2_boro</th>\n",
       "      <th>r3_boro</th>\n",
       "      <th>r4_boro</th>\n",
       "      <th>r5_boro</th>\n",
       "      <th>r6_boro</th>\n",
       "      <th>r7_boro</th>\n",
       "      <th>r8_boro</th>\n",
       "      <th>r9_boro</th>\n",
       "    </tr>\n",
       "  </thead>\n",
       "  <tbody>\n",
       "    <tr>\n",
       "      <th>0</th>\n",
       "      <td>40.917782</td>\n",
       "      <td>3994.412456</td>\n",
       "      <td>723.985188</td>\n",
       "      <td>8.079350</td>\n",
       "      <td>788.709805</td>\n",
       "      <td>142.953243</td>\n",
       "      <td>18.413002</td>\n",
       "      <td>1797.485605</td>\n",
       "      <td>325.793334</td>\n",
       "      <td>0.096029</td>\n",
       "      <td>...</td>\n",
       "      <td>4.715588</td>\n",
       "      <td>0.113902</td>\n",
       "      <td>7.712077</td>\n",
       "      <td>6.469193</td>\n",
       "      <td>0.241395</td>\n",
       "      <td>16.606462</td>\n",
       "      <td>13.685555</td>\n",
       "      <td>0.198288</td>\n",
       "      <td>14.042014</td>\n",
       "      <td>14.957255</td>\n",
       "    </tr>\n",
       "    <tr>\n",
       "      <th>1</th>\n",
       "      <td>57678.882190</td>\n",
       "      <td>36173.697854</td>\n",
       "      <td>6556.463990</td>\n",
       "      <td>4258.951518</td>\n",
       "      <td>2671.030012</td>\n",
       "      <td>484.122805</td>\n",
       "      <td>25955.496986</td>\n",
       "      <td>16278.164034</td>\n",
       "      <td>2950.408795</td>\n",
       "      <td>135.364878</td>\n",
       "      <td>...</td>\n",
       "      <td>42.704717</td>\n",
       "      <td>160.560217</td>\n",
       "      <td>69.841147</td>\n",
       "      <td>58.585497</td>\n",
       "      <td>127.249178</td>\n",
       "      <td>56.239136</td>\n",
       "      <td>46.347248</td>\n",
       "      <td>279.513149</td>\n",
       "      <td>127.165526</td>\n",
       "      <td>135.454020</td>\n",
       "    </tr>\n",
       "  </tbody>\n",
       "</table>\n",
       "<p>2 rows × 45 columns</p>\n",
       "</div>"
      ],
      "text/plain": [
       "             r1            r2           r3           r4           r5  \\\n",
       "0     40.917782   3994.412456   723.985188     8.079350   788.709805   \n",
       "1  57678.882190  36173.697854  6556.463990  4258.951518  2671.030012   \n",
       "\n",
       "           r6            r7            r8           r9     r1_zip5  ...  \\\n",
       "0  142.953243     18.413002   1797.485605   325.793334    0.096029  ...   \n",
       "1  484.122805  25955.496986  16278.164034  2950.408795  135.364878  ...   \n",
       "\n",
       "   r9_taxclass     r1_boro    r2_boro    r3_boro     r4_boro    r5_boro  \\\n",
       "0     4.715588    0.113902   7.712077   6.469193    0.241395  16.606462   \n",
       "1    42.704717  160.560217  69.841147  58.585497  127.249178  56.239136   \n",
       "\n",
       "     r6_boro     r7_boro     r8_boro     r9_boro  \n",
       "0  13.685555    0.198288   14.042014   14.957255  \n",
       "1  46.347248  279.513149  127.165526  135.454020  \n",
       "\n",
       "[2 rows x 45 columns]"
      ]
     },
     "execution_count": 2,
     "metadata": {},
     "output_type": "execute_result"
    }
   ],
   "source": [
    "%%time\n",
    "cols = ['r1', 'r2', 'r3', 'r4', 'r5', 'r6', 'r7', 'r8', 'r9',\n",
    "       'r1_zip5', 'r2_zip5', 'r3_zip5', 'r4_zip5', 'r5_zip5', 'r6_zip5',\n",
    "       'r7_zip5', 'r8_zip5', 'r9_zip5', 'r1_zip3', 'r2_zip3', 'r3_zip3',\n",
    "       'r4_zip3', 'r5_zip3', 'r6_zip3', 'r7_zip3', 'r8_zip3', 'r9_zip3',\n",
    "       'r1_taxclass', 'r2_taxclass', 'r3_taxclass', 'r4_taxclass',\n",
    "       'r5_taxclass', 'r6_taxclass', 'r7_taxclass', 'r8_taxclass',\n",
    "       'r9_taxclass', 'r1_boro', 'r2_boro', 'r3_boro', 'r4_boro', 'r5_boro',\n",
    "       'r6_boro', 'r7_boro', 'r8_boro', 'r9_boro']\n",
    "\n",
    "# data_orig contains non-score columns\n",
    "data_orig = pd.read_pickle('property_preprocessed.pickle')\n",
    "\n",
    "# data contains only score columns\n",
    "data = data_orig[cols].copy()\n",
    "\n",
    "# Therefore, after extracting from data_orig the score columns\n",
    "# I am dropping all the score columns from data_origh\n",
    "data_orig.drop(columns=cols, inplace=True)\n",
    "data.head(2)"
   ]
  },
  {
   "cell_type": "code",
   "execution_count": 3,
   "id": "393146ad",
   "metadata": {},
   "outputs": [
    {
     "name": "stdout",
     "output_type": "stream",
     "text": [
      "standardized\n",
      "CPU times: user 660 ms, sys: 459 ms, total: 1.12 s\n",
      "Wall time: 773 ms\n"
     ]
    }
   ],
   "source": [
    "%%time\n",
    "#Z scale the variables before PCA.\n",
    "data = (data - data.mean()) / data.std()\n",
    "print(\"standardized\")"
   ]
  },
  {
   "cell_type": "code",
   "execution_count": 4,
   "id": "bf24b48f",
   "metadata": {},
   "outputs": [
    {
     "data": {
      "text/plain": [
       "(0.0, 1.0)"
      ]
     },
     "execution_count": 4,
     "metadata": {},
     "output_type": "execute_result"
    },
    {
     "data": {
      "image/png": "[encoded data removed]",
      "text/plain": [
       "<Figure size 432x288 with 1 Axes>"
      ]
     },
     "metadata": {
      "needs_background": "light"
     },
     "output_type": "display_data"
    }
   ],
   "source": [
    "#First, compute most of the PC components and look at the scree plot.\n",
    "pca = PCA(n_components = .99, svd_solver = 'full')\n",
    "pca.fit(data)\n",
    "plt.plot(np.cumsum(pca.explained_variance_ratio_))\n",
    "plt.xlabel('Number of components')\n",
    "plt.ylabel('Cumulative explained variance')\n",
    "plt.yticks(np.arange(0.05, 1.1, step=.1))\n",
    "plt.xticks(np.arange(0, 20, step=2))\n",
    "plt.axvline(x=6, linestyle='--')\n",
    "plt.ylim(0,1)"
   ]
  },
  {
   "cell_type": "code",
   "execution_count": 5,
   "id": "2cc2b677",
   "metadata": {},
   "outputs": [
    {
     "data": {
      "text/html": [
       "<div>\n",
       "<style scoped>\n",
       "    .dataframe tbody tr th:only-of-type {\n",
       "        vertical-align: middle;\n",
       "    }\n",
       "\n",
       "    .dataframe tbody tr th {\n",
       "        vertical-align: top;\n",
       "    }\n",
       "\n",
       "    .dataframe thead th {\n",
       "        text-align: right;\n",
       "    }\n",
       "</style>\n",
       "<table border=\"1\" class=\"dataframe\">\n",
       "  <thead>\n",
       "    <tr style=\"text-align: right;\">\n",
       "      <th></th>\n",
       "      <th>PC1</th>\n",
       "      <th>PC2</th>\n",
       "      <th>PC3</th>\n",
       "      <th>PC4</th>\n",
       "      <th>PC5</th>\n",
       "      <th>PC6</th>\n",
       "    </tr>\n",
       "  </thead>\n",
       "  <tbody>\n",
       "    <tr>\n",
       "      <th>count</th>\n",
       "      <td>1.046826e+06</td>\n",
       "      <td>1.046826e+06</td>\n",
       "      <td>1.046826e+06</td>\n",
       "      <td>1.046826e+06</td>\n",
       "      <td>1.046826e+06</td>\n",
       "      <td>1.046826e+06</td>\n",
       "    </tr>\n",
       "    <tr>\n",
       "      <th>mean</th>\n",
       "      <td>-2.158997e-16</td>\n",
       "      <td>7.390330e-16</td>\n",
       "      <td>-1.942744e-16</td>\n",
       "      <td>7.300055e-16</td>\n",
       "      <td>3.958958e-15</td>\n",
       "      <td>-8.391092e-16</td>\n",
       "    </tr>\n",
       "    <tr>\n",
       "      <th>std</th>\n",
       "      <td>1.000000e+00</td>\n",
       "      <td>1.000000e+00</td>\n",
       "      <td>1.000000e+00</td>\n",
       "      <td>1.000000e+00</td>\n",
       "      <td>1.000000e+00</td>\n",
       "      <td>1.000000e+00</td>\n",
       "    </tr>\n",
       "    <tr>\n",
       "      <th>min</th>\n",
       "      <td>-2.585169e-01</td>\n",
       "      <td>-2.280285e+02</td>\n",
       "      <td>-1.990058e+02</td>\n",
       "      <td>-2.023902e+02</td>\n",
       "      <td>-2.438876e+02</td>\n",
       "      <td>-2.002482e+02</td>\n",
       "    </tr>\n",
       "    <tr>\n",
       "      <th>25%</th>\n",
       "      <td>-1.088008e-01</td>\n",
       "      <td>-1.544611e-01</td>\n",
       "      <td>-1.356178e-01</td>\n",
       "      <td>-3.269417e-02</td>\n",
       "      <td>-1.159057e-01</td>\n",
       "      <td>-1.101847e-01</td>\n",
       "    </tr>\n",
       "    <tr>\n",
       "      <th>50%</th>\n",
       "      <td>-2.375699e-02</td>\n",
       "      <td>-5.919442e-02</td>\n",
       "      <td>6.964989e-04</td>\n",
       "      <td>1.366912e-02</td>\n",
       "      <td>-1.313743e-02</td>\n",
       "      <td>-2.535285e-02</td>\n",
       "    </tr>\n",
       "    <tr>\n",
       "      <th>75%</th>\n",
       "      <td>3.290240e-02</td>\n",
       "      <td>3.225958e-02</td>\n",
       "      <td>3.206016e-01</td>\n",
       "      <td>7.018403e-02</td>\n",
       "      <td>4.879502e-02</td>\n",
       "      <td>1.382269e-01</td>\n",
       "    </tr>\n",
       "    <tr>\n",
       "      <th>max</th>\n",
       "      <td>6.907817e+02</td>\n",
       "      <td>3.239819e+02</td>\n",
       "      <td>5.967327e+02</td>\n",
       "      <td>2.507935e+02</td>\n",
       "      <td>4.068856e+02</td>\n",
       "      <td>4.017189e+02</td>\n",
       "    </tr>\n",
       "  </tbody>\n",
       "</table>\n",
       "</div>"
      ],
      "text/plain": [
       "                PC1           PC2           PC3           PC4           PC5  \\\n",
       "count  1.046826e+06  1.046826e+06  1.046826e+06  1.046826e+06  1.046826e+06   \n",
       "mean  -2.158997e-16  7.390330e-16 -1.942744e-16  7.300055e-16  3.958958e-15   \n",
       "std    1.000000e+00  1.000000e+00  1.000000e+00  1.000000e+00  1.000000e+00   \n",
       "min   -2.585169e-01 -2.280285e+02 -1.990058e+02 -2.023902e+02 -2.438876e+02   \n",
       "25%   -1.088008e-01 -1.544611e-01 -1.356178e-01 -3.269417e-02 -1.159057e-01   \n",
       "50%   -2.375699e-02 -5.919442e-02  6.964989e-04  1.366912e-02 -1.313743e-02   \n",
       "75%    3.290240e-02  3.225958e-02  3.206016e-01  7.018403e-02  4.879502e-02   \n",
       "max    6.907817e+02  3.239819e+02  5.967327e+02  2.507935e+02  4.068856e+02   \n",
       "\n",
       "                PC6  \n",
       "count  1.046826e+06  \n",
       "mean  -8.391092e-16  \n",
       "std    1.000000e+00  \n",
       "min   -2.002482e+02  \n",
       "25%   -1.101847e-01  \n",
       "50%   -2.535285e-02  \n",
       "75%    1.382269e-01  \n",
       "max    4.017189e+02  "
      ]
     },
     "execution_count": 5,
     "metadata": {},
     "output_type": "execute_result"
    }
   ],
   "source": [
    "#Now decide to just keep the top 6 PCs. Recompute them.\n",
    "pca = PCA(n_components = 6)\n",
    "princ_comps = pca.fit_transform(data)\n",
    "data_pca = pd.DataFrame(princ_comps, columns = ['PC' + str(i) for i in range(1, pca.n_components_+1)])\n",
    "data_pca.shape\n",
    "\n",
    "#Z scale the PC’s\n",
    "pca_mean = data_pca.mean()\n",
    "pca_sd = data_pca.std()\n",
    "data_pca = (data_pca - pca_mean) / pca_sd\n",
    "data_pca.describe()"
   ]
  },
  {
   "cell_type": "markdown",
   "id": "f52fa8be",
   "metadata": {},
   "source": [
    "### Model 1: z score outliers\n",
    "Pretty simple once the data’s prepared. Here we chose the power in the distance formula to be 2, which is the Euclidean distance."
   ]
  },
  {
   "cell_type": "code",
   "execution_count": 6,
   "id": "911836de",
   "metadata": {},
   "outputs": [],
   "source": [
    "p=2\n",
    "one_over_p = 1/p\n",
    "score1 = (((data_pca).abs()**p).sum(axis=1))**one_over_p"
   ]
  },
  {
   "cell_type": "markdown",
   "id": "7a528dc1",
   "metadata": {},
   "source": [
    "### Model 2: autoencoder error\n",
    "1. Compress the data records from 6 to 3 dimensions. Expand them back to 6 dimensions.\n",
    "2. Train the autoencoder. We don’t need the autoencoder to be a really good model so we don’t need to train a lot. Even a weak model will still have large error on the strange records and the errors on the normal records will still be much smaller.\n",
    "3. Score 2 is the difference between the input and output vectors of the autoencoder (autoencoder error). We choose the Euclidean distance again (power 2)."
   ]
  },
  {
   "cell_type": "code",
   "execution_count": 7,
   "id": "0562de96",
   "metadata": {},
   "outputs": [
    {
     "name": "stdout",
     "output_type": "stream",
     "text": [
      "Epoch 1/3\n",
      "32714/32714 [==============================] - 53s 2ms/step - loss: 0.8094 - val_loss: 0.8953\n",
      "Epoch 2/3\n",
      "32714/32714 [==============================] - 54s 2ms/step - loss: 0.9322 - val_loss: 0.8947\n",
      "Epoch 3/3\n",
      "32714/32714 [==============================] - 52s 2ms/step - loss: 0.8687 - val_loss: 0.8948\n"
     ]
    }
   ],
   "source": [
    "from keras.models import Model\n",
    "from keras.layers import Input, Dense\n",
    "\n",
    "# placeholder for input\n",
    "data_in = Input(shape=(6,))\n",
    "# dimension of the encoded data. Choose 3\n",
    "encoded_dim = 3\n",
    "# encoded representation of the data\n",
    "encoded = Dense(encoded_dim, activation='tanh')(data_in)\n",
    "# reconstruction of the input\n",
    "decoded = Dense(6,activation='tanh')(encoded)\n",
    "# this model maps the input data to the reconstructed data\n",
    "autoencoder = Model(data_in, decoded)\n",
    "\n",
    "autoencoder.compile(optimizer='adam', loss='mean_squared_error')\n",
    "\n",
    "autoencoder.fit(data_pca,data_pca, epochs=3, shuffle=True, validation_data=(data_pca,data_pca))\n",
    "\n",
    "pca_out = autoencoder.predict(data_pca)\n",
    "error = pca_out-data_pca\n",
    "p=2\n",
    "oop=1/p\n",
    "score2 = ((error.abs()**p).sum(axis=1))**oop"
   ]
  },
  {
   "cell_type": "markdown",
   "id": "a10b7268",
   "metadata": {},
   "source": [
    "### Make the final score as the average ranking"
   ]
  },
  {
   "cell_type": "code",
   "execution_count": 8,
   "id": "7035e264",
   "metadata": {},
   "outputs": [],
   "source": [
    "scores = pd.DataFrame(score1)\n",
    "scores.columns=['score1']\n",
    "scores['score2'] = score2\n",
    "scores['score1 rank'] = scores['score1'].rank()\n",
    "scores['score2 rank'] = scores['score2'].rank()\n",
    "scores['final'] = (scores['score1 rank'] + scores['score2 rank'])/2\n",
    "top_records = scores.sort_values(['final'], ascending = False).head(100).index"
   ]
  },
  {
   "cell_type": "code",
   "execution_count": 9,
   "id": "20ab495d",
   "metadata": {},
   "outputs": [
    {
     "data": {
      "text/plain": [
       "(0.1, 2088582.7348885664)"
      ]
     },
     "execution_count": 9,
     "metadata": {},
     "output_type": "execute_result"
    },
    {
     "data": {
      "image/png": "[encoded data removed]",
      "text/plain": [
       "<Figure size 432x288 with 1 Axes>"
      ]
     },
     "metadata": {
      "needs_background": "light"
     },
     "output_type": "display_data"
    }
   ],
   "source": [
    "plt.hist(score1, bins = 100, range=(0,1000))\n",
    "plt.yscale('log')\n",
    "plt.ylim(ymin=.1)"
   ]
  },
  {
   "cell_type": "code",
   "execution_count": 10,
   "id": "dd85b89f",
   "metadata": {},
   "outputs": [
    {
     "data": {
      "text/plain": [
       "(0.1, 2090092.3664951806)"
      ]
     },
     "execution_count": 10,
     "metadata": {},
     "output_type": "execute_result"
    },
    {
     "data": {
      "image/png": "[encoded data removed]",
      "text/plain": [
       "<Figure size 432x288 with 1 Axes>"
      ]
     },
     "metadata": {
      "needs_background": "light"
     },
     "output_type": "display_data"
    }
   ],
   "source": [
    "plt.hist(score2, bins=100, range=(0,1000))\n",
    "plt.yscale('log')\n",
    "plt.ylim(ymin=.1)"
   ]
  },
  {
   "cell_type": "code",
   "execution_count": 11,
   "id": "559f1d30",
   "metadata": {},
   "outputs": [
    {
     "name": "stderr",
     "output_type": "stream",
     "text": [
      "/usr/local/lib/python3.8/dist-packages/seaborn/distributions.py:2557: FutureWarning: `distplot` is a deprecated function and will be removed in a future version. Please adapt your code to use either `displot` (a figure-level function with similar flexibility) or `histplot` (an axes-level function for histograms).\n",
      "  warnings.warn(msg, FutureWarning)\n"
     ]
    },
    {
     "data": {
      "text/plain": [
       "<AxesSubplot:xlabel='final', ylabel='Density'>"
      ]
     },
     "execution_count": 11,
     "metadata": {},
     "output_type": "execute_result"
    },
    {
     "data": {
      "image/png": "[encoded data removed]",
      "text/plain": [
       "<Figure size 432x288 with 1 Axes>"
      ]
     },
     "metadata": {
      "needs_background": "light"
     },
     "output_type": "display_data"
    }
   ],
   "source": [
    "sns.distplot(scores['final'])"
   ]
  },
  {
   "cell_type": "code",
   "execution_count": 18,
   "id": "17f6ac14",
   "metadata": {},
   "outputs": [],
   "source": [
    "submission = (\n",
    "    data_orig.drop(columns = ['ltsize','bldsize','bldvol','zip3'])\n",
    "    .join(scores[['score1','score2','final']], how=\"inner\")\n",
    "    .sort_values(by=\"final\", ascending=False)\n",
    "    .head(100)\n",
    ")"
   ]
  },
  {
   "cell_type": "code",
   "execution_count": 21,
   "id": "c98067e7",
   "metadata": {},
   "outputs": [],
   "source": [
    "submission.to_csv(\"top100.csv\", index=False)"
   ]
  },
  {
   "cell_type": "code",
   "execution_count": 19,
   "id": "943be5d3",
   "metadata": {},
   "outputs": [
    {
     "data": {
      "text/plain": [
       "Index(['RECORD', 'BBLE', 'B', 'BLOCK', 'LOT', 'EASEMENT', 'OWNER', 'BLDGCL',\n",
       "       'TAXCLASS', 'LTFRONT', 'LTDEPTH', 'EXT', 'STORIES', 'FULLVAL', 'AVLAND',\n",
       "       'AVTOT', 'EXLAND', 'EXTOT', 'EXCD1', 'STADDR', 'ZIP', 'EXMPTCL',\n",
       "       'BLDFRONT', 'BLDDEPTH', 'AVLAND2', 'AVTOT2', 'EXLAND2', 'EXTOT2',\n",
       "       'EXCD2', 'PERIOD', 'YEAR', 'VALTYPE', 'score1', 'score2', 'final'],\n",
       "      dtype='object')"
      ]
     },
     "execution_count": 19,
     "metadata": {},
     "output_type": "execute_result"
    }
   ],
   "source": [
    "submission.columns"
   ]
  },
  {
   "cell_type": "code",
   "execution_count": 20,
   "id": "37a688b4",
   "metadata": {},
   "outputs": [
    {
     "data": {
      "text/plain": [
       "(100, 35)"
      ]
     },
     "execution_count": 20,
     "metadata": {},
     "output_type": "execute_result"
    }
   ],
   "source": [
    "submission.shape"
   ]
  },
  {
   "cell_type": "code",
   "execution_count": 16,
   "id": "e2afd3c2",
   "metadata": {},
   "outputs": [
    {
     "data": {
      "text/html": [
       "<div>\n",
       "<style scoped>\n",
       "    .dataframe tbody tr th:only-of-type {\n",
       "        vertical-align: middle;\n",
       "    }\n",
       "\n",
       "    .dataframe tbody tr th {\n",
       "        vertical-align: top;\n",
       "    }\n",
       "\n",
       "    .dataframe thead th {\n",
       "        text-align: right;\n",
       "    }\n",
       "</style>\n",
       "<table border=\"1\" class=\"dataframe\">\n",
       "  <thead>\n",
       "    <tr style=\"text-align: right;\">\n",
       "      <th></th>\n",
       "      <th>r1</th>\n",
       "      <th>r2</th>\n",
       "      <th>r3</th>\n",
       "      <th>r4</th>\n",
       "      <th>r5</th>\n",
       "      <th>r6</th>\n",
       "      <th>r7</th>\n",
       "      <th>r8</th>\n",
       "      <th>r9</th>\n",
       "      <th>r1_zip5</th>\n",
       "      <th>...</th>\n",
       "      <th>r9_taxclass</th>\n",
       "      <th>r1_boro</th>\n",
       "      <th>r2_boro</th>\n",
       "      <th>r3_boro</th>\n",
       "      <th>r4_boro</th>\n",
       "      <th>r5_boro</th>\n",
       "      <th>r6_boro</th>\n",
       "      <th>r7_boro</th>\n",
       "      <th>r8_boro</th>\n",
       "      <th>r9_boro</th>\n",
       "    </tr>\n",
       "  </thead>\n",
       "  <tbody>\n",
       "    <tr>\n",
       "      <th>0</th>\n",
       "      <td>-0.324189</td>\n",
       "      <td>3.365634</td>\n",
       "      <td>0.962071</td>\n",
       "      <td>-0.034088</td>\n",
       "      <td>2.023461</td>\n",
       "      <td>0.745320</td>\n",
       "      <td>-0.041301</td>\n",
       "      <td>1.874086</td>\n",
       "      <td>0.937911</td>\n",
       "      <td>-0.417857</td>\n",
       "      <td>...</td>\n",
       "      <td>0.660210</td>\n",
       "      <td>-0.374523</td>\n",
       "      <td>3.352458</td>\n",
       "      <td>2.151291</td>\n",
       "      <td>-0.120245</td>\n",
       "      <td>0.910164</td>\n",
       "      <td>0.790755</td>\n",
       "      <td>-0.110174</td>\n",
       "      <td>0.594662</td>\n",
       "      <td>0.887478</td>\n",
       "    </tr>\n",
       "    <tr>\n",
       "      <th>1</th>\n",
       "      <td>107.903135</td>\n",
       "      <td>34.685411</td>\n",
       "      <td>12.654552</td>\n",
       "      <td>60.713604</td>\n",
       "      <td>6.996480</td>\n",
       "      <td>2.658471</td>\n",
       "      <td>127.179921</td>\n",
       "      <td>17.407961</td>\n",
       "      <td>8.963675</td>\n",
       "      <td>62.109671</td>\n",
       "      <td>...</td>\n",
       "      <td>7.410371</td>\n",
       "      <td>67.440601</td>\n",
       "      <td>34.383853</td>\n",
       "      <td>22.651090</td>\n",
       "      <td>20.011593</td>\n",
       "      <td>3.221530</td>\n",
       "      <td>2.826725</td>\n",
       "      <td>38.274168</td>\n",
       "      <td>5.752631</td>\n",
       "      <td>8.549314</td>\n",
       "    </tr>\n",
       "  </tbody>\n",
       "</table>\n",
       "<p>2 rows × 45 columns</p>\n",
       "</div>"
      ],
      "text/plain": [
       "           r1         r2         r3         r4        r5        r6  \\\n",
       "0   -0.324189   3.365634   0.962071  -0.034088  2.023461  0.745320   \n",
       "1  107.903135  34.685411  12.654552  60.713604  6.996480  2.658471   \n",
       "\n",
       "           r7         r8        r9    r1_zip5  ...  r9_taxclass    r1_boro  \\\n",
       "0   -0.041301   1.874086  0.937911  -0.417857  ...     0.660210  -0.374523   \n",
       "1  127.179921  17.407961  8.963675  62.109671  ...     7.410371  67.440601   \n",
       "\n",
       "     r2_boro    r3_boro    r4_boro   r5_boro   r6_boro    r7_boro   r8_boro  \\\n",
       "0   3.352458   2.151291  -0.120245  0.910164  0.790755  -0.110174  0.594662   \n",
       "1  34.383853  22.651090  20.011593  3.221530  2.826725  38.274168  5.752631   \n",
       "\n",
       "    r9_boro  \n",
       "0  0.887478  \n",
       "1  8.549314  \n",
       "\n",
       "[2 rows x 45 columns]"
      ]
     },
     "execution_count": 16,
     "metadata": {},
     "output_type": "execute_result"
    }
   ],
   "source": [
    "data.head(2)"
   ]
  },
  {
   "cell_type": "code",
   "execution_count": null,
   "id": "7830eccc",
   "metadata": {},
   "outputs": [],
   "source": []
  }
 ],
 "metadata": {
  "kernelspec": {
   "display_name": "Python 3",
   "language": "python",
   "name": "python3"
  },
  "language_info": {
   "codemirror_mode": {
    "name": "ipython",
    "version": 3
   },
   "file_extension": ".py",
   "mimetype": "text/x-python",
   "name": "python",
   "nbconvert_exporter": "python",
   "pygments_lexer": "ipython3",
   "version": "3.8.5"
  }
 },
 "nbformat": 4,
 "nbformat_minor": 5
}
